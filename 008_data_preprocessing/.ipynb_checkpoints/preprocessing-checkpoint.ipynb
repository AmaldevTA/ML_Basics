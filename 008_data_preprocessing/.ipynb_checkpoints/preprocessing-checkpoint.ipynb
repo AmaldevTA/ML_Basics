{
 "cells": [
  {
   "cell_type": "code",
   "execution_count": 143,
   "metadata": {},
   "outputs": [],
   "source": [
    "import pandas as pd\n",
    "import numpy as np"
   ]
  },
  {
   "cell_type": "code",
   "execution_count": 144,
   "metadata": {},
   "outputs": [
    {
     "data": {
      "text/html": [
       "<div>\n",
       "<style scoped>\n",
       "    .dataframe tbody tr th:only-of-type {\n",
       "        vertical-align: middle;\n",
       "    }\n",
       "\n",
       "    .dataframe tbody tr th {\n",
       "        vertical-align: top;\n",
       "    }\n",
       "\n",
       "    .dataframe thead th {\n",
       "        text-align: right;\n",
       "    }\n",
       "</style>\n",
       "<table border=\"1\" class=\"dataframe\">\n",
       "  <thead>\n",
       "    <tr style=\"text-align: right;\">\n",
       "      <th></th>\n",
       "      <th>Department</th>\n",
       "      <th>Age</th>\n",
       "      <th>Experience</th>\n",
       "      <th>Salary</th>\n",
       "    </tr>\n",
       "  </thead>\n",
       "  <tbody>\n",
       "    <tr>\n",
       "      <th>0</th>\n",
       "      <td>Asset Management</td>\n",
       "      <td>38.0</td>\n",
       "      <td>23.0</td>\n",
       "      <td>46975</td>\n",
       "    </tr>\n",
       "    <tr>\n",
       "      <th>1</th>\n",
       "      <td>Customer Service</td>\n",
       "      <td>26.0</td>\n",
       "      <td>10.0</td>\n",
       "      <td>30711</td>\n",
       "    </tr>\n",
       "    <tr>\n",
       "      <th>2</th>\n",
       "      <td>Human Resources</td>\n",
       "      <td>NaN</td>\n",
       "      <td>14.0</td>\n",
       "      <td>25049</td>\n",
       "    </tr>\n",
       "    <tr>\n",
       "      <th>3</th>\n",
       "      <td>NaN</td>\n",
       "      <td>NaN</td>\n",
       "      <td>12.0</td>\n",
       "      <td>33309</td>\n",
       "    </tr>\n",
       "    <tr>\n",
       "      <th>4</th>\n",
       "      <td>Customer Service</td>\n",
       "      <td>NaN</td>\n",
       "      <td>NaN</td>\n",
       "      <td>25274</td>\n",
       "    </tr>\n",
       "  </tbody>\n",
       "</table>\n",
       "</div>"
      ],
      "text/plain": [
       "         Department   Age  Experience  Salary\n",
       "0  Asset Management  38.0        23.0   46975\n",
       "1  Customer Service  26.0        10.0   30711\n",
       "2   Human Resources   NaN        14.0   25049\n",
       "3               NaN   NaN        12.0   33309\n",
       "4  Customer Service   NaN         NaN   25274"
      ]
     },
     "execution_count": 144,
     "metadata": {},
     "output_type": "execute_result"
    }
   ],
   "source": [
    "dataset = pd.read_excel('data/Data.xls')\n",
    "x = dataset.iloc[:,3:7]\n",
    "x.head()"
   ]
  },
  {
   "cell_type": "code",
   "execution_count": 145,
   "metadata": {},
   "outputs": [],
   "source": [
    "#from sklearn.impute import SimpleImputer\n",
    "\n",
    "#imputer = SimpleImputer(missing_values=np.nan, strategy='most_frequent')\n",
    "#imputer = imputer.fit(x)\n",
    "#x = imputer.transform(x)"
   ]
  },
  {
   "cell_type": "code",
   "execution_count": 146,
   "metadata": {},
   "outputs": [],
   "source": [
    "x= x.to_numpy()"
   ]
  },
  {
   "cell_type": "code",
   "execution_count": 147,
   "metadata": {
    "scrolled": true
   },
   "outputs": [],
   "source": [
    "from sklearn.impute import SimpleImputer\n",
    "\n",
    "imputer = SimpleImputer(missing_values=np.nan, strategy='most_frequent')\n",
    "imputer = imputer.fit(x[:,0].reshape(-1,1))\n",
    "temp = imputer.transform(x[:,0].reshape(-1,1))\n",
    "x[:,0] = temp.reshape(1,-1)[0]"
   ]
  },
  {
   "cell_type": "code",
   "execution_count": 148,
   "metadata": {},
   "outputs": [],
   "source": [
    "imputer = SimpleImputer(missing_values=np.nan, strategy='mean')\n",
    "imputer = imputer.fit(x[:,1].reshape(-1,1))\n",
    "temp = imputer.transform(x[:,1].reshape(-1,1))\n",
    "temp = temp.round(decimals=1)\n",
    "x[:,1] = temp.reshape(1,-1)[0]"
   ]
  },
  {
   "cell_type": "code",
   "execution_count": 149,
   "metadata": {},
   "outputs": [],
   "source": [
    "imputer = SimpleImputer(missing_values=np.nan, strategy='median')\n",
    "imputer = imputer.fit(x[:,2].reshape(-1,1))\n",
    "temp = imputer.transform(x[:,2].reshape(-1,1))\n",
    "x[:,2] = temp.reshape(1,-1)[0]"
   ]
  },
  {
   "cell_type": "code",
   "execution_count": 150,
   "metadata": {
    "scrolled": true
   },
   "outputs": [
    {
     "data": {
      "text/plain": [
       "array([[2, 38.0, 23.0, 46975],\n",
       "       [4, 26.0, 10.0, 30711],\n",
       "       [6, 40.9, 14.0, 25049],\n",
       "       [1, 40.9, 12.0, 33309],\n",
       "       [4, 40.9, 16.0, 25274],\n",
       "       [1, 40.9, 9.0, 48583],\n",
       "       [10, 40.9, 24.0, 39697],\n",
       "       [2, 40.9, 2.0, 24163],\n",
       "       [7, 40.0, 30.0, 17160],\n",
       "       [1, 24.0, 23.0, 35218]], dtype=object)"
      ]
     },
     "execution_count": 150,
     "metadata": {},
     "output_type": "execute_result"
    }
   ],
   "source": [
    "from sklearn.preprocessing import LabelEncoder, OneHotEncoder\n",
    "\n",
    "labelencoder = LabelEncoder()\n",
    "labelencoder.fit(x[:,0])\n",
    "x[:,0] = labelencoder.transform(x[:,0])\n",
    "x[:10,:]"
   ]
  },
  {
   "cell_type": "code",
   "execution_count": 151,
   "metadata": {},
   "outputs": [
    {
     "data": {
      "text/plain": [
       "array([[2, 38.0, 0.7586206896551725, 46975],\n",
       "       [4, 26.0, 0.3103448275862069, 30711],\n",
       "       [6, 40.9, 0.44827586206896547, 25049],\n",
       "       [1, 40.9, 0.3793103448275862, 33309],\n",
       "       [4, 40.9, 0.5172413793103449, 25274],\n",
       "       [1, 40.9, 0.27586206896551724, 48583],\n",
       "       [10, 40.9, 0.7931034482758621, 39697],\n",
       "       [2, 40.9, 0.034482758620689655, 24163],\n",
       "       [7, 40.0, 1.0, 17160],\n",
       "       [1, 24.0, 0.7586206896551725, 35218]], dtype=object)"
      ]
     },
     "execution_count": 151,
     "metadata": {},
     "output_type": "execute_result"
    }
   ],
   "source": [
    "from sklearn.preprocessing import MinMaxScaler\n",
    "\n",
    "minmax = MinMaxScaler()\n",
    "minmax.fit(x[:,2].reshape(-1,1))\n",
    "k = minmax.transform(x[:,2].reshape(-1,1))\n",
    "x[:,2] = k.reshape(1,-1)[0]\n",
    "x[:10,:]"
   ]
  },
  {
   "cell_type": "code",
   "execution_count": 152,
   "metadata": {},
   "outputs": [
    {
     "data": {
      "text/plain": [
       "array([[2, 38.0, 0.7586206896551725, 1.532588693353712],\n",
       "       [4, 26.0, 0.3103448275862069, 0.0922343946746362],\n",
       "       [6, 40.9, 0.44827586206896547, -0.409197358837472],\n",
       "       [1, 40.9, 0.3793103448275862, 0.32231558429393276],\n",
       "       [4, 40.9, 0.5172413793103449, -0.3892711588127061],\n",
       "       [1, 40.9, 0.27586206896551724, 1.6749946028640388],\n",
       "       [10, 40.9, 0.7931034482758621, 0.8880425432192854],\n",
       "       [2, 40.9, 0.034482758620689655, -0.48766230649055],\n",
       "       [7, 40.0, 1.0, -1.1078542121502628],\n",
       "       [1, 24.0, 0.7586206896551725, 0.49137832139294624]], dtype=object)"
      ]
     },
     "execution_count": 152,
     "metadata": {},
     "output_type": "execute_result"
    }
   ],
   "source": [
    "from sklearn.preprocessing import StandardScaler\n",
    "\n",
    "standard = StandardScaler()\n",
    "standard.fit(x[:,3].reshape(-1,1))\n",
    "k = standard.transform(x[:,3].reshape(-1,1))\n",
    "x[:,3] = k.reshape(1,-1)[0]\n",
    "x[:10,:]"
   ]
  },
  {
   "cell_type": "code",
   "execution_count": 153,
   "metadata": {},
   "outputs": [
    {
     "data": {
      "text/plain": [
       "array([[2, 1.0, 0.7586206896551725, 1.532588693353712],\n",
       "       [4, 1.0, 0.3103448275862069, 0.0922343946746362],\n",
       "       [6, 1.0, 0.44827586206896547, -0.409197358837472],\n",
       "       [1, 1.0, 0.3793103448275862, 0.32231558429393276],\n",
       "       [4, 1.0, 0.5172413793103449, -0.3892711588127061],\n",
       "       [1, 1.0, 0.27586206896551724, 1.6749946028640388],\n",
       "       [10, 1.0, 0.7931034482758621, 0.8880425432192854],\n",
       "       [2, 1.0, 0.034482758620689655, -0.48766230649055],\n",
       "       [7, 1.0, 1.0, -1.1078542121502628],\n",
       "       [1, 1.0, 0.7586206896551725, 0.49137832139294624]], dtype=object)"
      ]
     },
     "execution_count": 153,
     "metadata": {},
     "output_type": "execute_result"
    }
   ],
   "source": [
    "from sklearn.preprocessing import Normalizer\n",
    "\n",
    "normalizer = Normalizer()\n",
    "normalizer.fit(x[:,1].reshape(-1,1))\n",
    "k = normalizer.transform(x[:,1].reshape(-1,1))\n",
    "x[:,1] = k.reshape(1,-1)[0]\n",
    "x[:10,:]"
   ]
  },
  {
   "cell_type": "code",
   "execution_count": 154,
   "metadata": {},
   "outputs": [
    {
     "name": "stdout",
     "output_type": "stream",
     "text": [
      "(80, 4)\n",
      "(80,)\n",
      "(20, 4)\n",
      "(20,)\n"
     ]
    }
   ],
   "source": [
    "from sklearn.model_selection import train_test_split\n",
    "\n",
    "y = x[:,0]\n",
    "x_train, x_test, y_train, y_test = train_test_split(x, y, test_size=0.20, random_state=10)\n",
    "print(x_train.shape)\n",
    "print(y_train.shape)\n",
    "print(x_test.shape)\n",
    "print(y_test.shape)"
   ]
  },
  {
   "cell_type": "code",
   "execution_count": null,
   "metadata": {},
   "outputs": [],
   "source": []
  }
 ],
 "metadata": {
  "kernelspec": {
   "display_name": "Python 3",
   "language": "python",
   "name": "python3"
  },
  "language_info": {
   "codemirror_mode": {
    "name": "ipython",
    "version": 3
   },
   "file_extension": ".py",
   "mimetype": "text/x-python",
   "name": "python",
   "nbconvert_exporter": "python",
   "pygments_lexer": "ipython3",
   "version": "3.8.8"
  }
 },
 "nbformat": 4,
 "nbformat_minor": 2
}
