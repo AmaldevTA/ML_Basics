{
 "cells": [
  {
   "cell_type": "code",
   "execution_count": 121,
   "metadata": {},
   "outputs": [],
   "source": [
    "import numpy as np\n",
    "import time\n",
    "from sklearn.preprocessing import OneHotEncoder\n",
    "from scipy.io import loadmat\n",
    "from scipy.optimize import minimize"
   ]
  },
  {
   "cell_type": "code",
   "execution_count": 122,
   "metadata": {},
   "outputs": [],
   "source": [
    "def load_data(filename):\n",
    "    try:\n",
    "        return loadmat(filename)\n",
    "    except TypeError:\n",
    "        print(\"Invalid filename argument: \" + filename)"
   ]
  },
  {
   "cell_type": "code",
   "execution_count": 123,
   "metadata": {},
   "outputs": [],
   "source": [
    "def sigmoid(x):\n",
    "    return 1/(1 + np.exp((-x)))"
   ]
  },
  {
   "cell_type": "code",
   "execution_count": 124,
   "metadata": {},
   "outputs": [],
   "source": [
    "def sigmoid_gradient(x):\n",
    "    return np.multiply(x, (1 - x))"
   ]
  },
  {
   "cell_type": "code",
   "execution_count": 125,
   "metadata": {},
   "outputs": [],
   "source": [
    "def forward_prop(X, theta_list):\n",
    "\n",
    "    m = X.shape[0]\n",
    "    a_list = []\n",
    "    z_list = []\n",
    "    \n",
    "    a_list.append(np.insert(X, 0, values=np.ones(m), axis=1))\n",
    "   \n",
    "    idx = 0\n",
    "    for idx, thera in enumerate(theta_list):\n",
    "        z_list.append(a_list[idx] * (theta_list[idx].T))\n",
    "        if idx != (len(theta_list)-1):\n",
    "            a_list.append(np.insert(sigmoid(z_list[idx]), 0, values=np.ones(m), axis=1))\n",
    "        else:\n",
    "            a_list.append(sigmoid(z_list[idx]))\n",
    "\n",
    "    return a_list, z_list"
   ]
  },
  {
   "cell_type": "code",
   "execution_count": 126,
   "metadata": {},
   "outputs": [],
   "source": [
    "def back_prop(params, input_size, hidden_layers, num_labels, X, y, regularization, regularize):\n",
    "\n",
    "    m = X.shape[0]\n",
    "    X = np.matrix(X)\n",
    "    y = np.matrix(y)\n",
    "    \n",
    "    theta_list = []\n",
    "    startCount = 0\n",
    "    idx = 0\n",
    "    for idx, val in enumerate(hidden_layers):\n",
    "        if idx == 0:\n",
    "            startCount = val * (input_size + 1)\n",
    "            theta_list.append(np.matrix(np.reshape(params[:startCount], (val, (input_size + 1)))))\n",
    "        if idx != 0:\n",
    "            tempCount = startCount\n",
    "            startCount += (val * (hidden_layers[idx-1] + 1))\n",
    "            theta_list.append(np.matrix(np.reshape(params[tempCount:startCount], (val, (hidden_layers[idx-1] + 1)))))\n",
    "        if idx == (len(hidden_layers)-1):\n",
    "            theta_list.append(np.matrix(np.reshape(params[startCount:], (num_labels, (val + 1)))))\n",
    "\n",
    "\n",
    "    a_list, z_list= forward_prop(X, theta_list)\n",
    "    J = cost(X, y, a_list[len(a_list)-1], theta_list, regularization, regularize)\n",
    "    \n",
    "    d_list = []\n",
    "    d_list.append(a_list[len(a_list)-1] - y)\n",
    "    \n",
    "    idx = 0\n",
    "    while idx < (len(theta_list)-1):\n",
    "        d_temp = np.multiply(d_list[idx] * theta_list[len(a_list) - 2 - idx], sigmoid_gradient(a_list[len(a_list) - 2 - idx]))\n",
    "        d_list.append(d_temp[:,1:])\n",
    "        idx += 1    \n",
    "    \n",
    "    delta_list = []\n",
    "    for theta in theta_list:\n",
    "        delta_list.append(np.zeros(theta.shape))\n",
    "\n",
    "    for idx, delta in enumerate(delta_list):\n",
    "        delta_list[idx] = delta_list[idx] + ((d_list[len(d_list) - 1 -idx].T) * a_list[idx])\n",
    "        delta_list[idx] = delta_list[idx] / m\n",
    "   \n",
    "    if regularize:\n",
    "        for idx, delta in enumerate(delta_list):\n",
    "            delta_list[idx][:, 1:] = delta_list[idx][:, 1:] + (theta_list[idx][:, 1:] * regularization)\n",
    "\n",
    "    grad_list = np.ravel(delta_list[0])\n",
    "    idx = 1\n",
    "    while idx < (len(delta_list)):\n",
    "        grad_list = np.concatenate((grad_list, np.ravel(delta_list[idx])), axis=None)\n",
    "        idx += 1\n",
    "\n",
    "    return J, grad_list"
   ]
  },
  {
   "cell_type": "code",
   "execution_count": 127,
   "metadata": {},
   "outputs": [],
   "source": [
    "def cost(X, y, h, theta_list, regularization, regularize):\n",
    "\n",
    "    m = X.shape[0]\n",
    "    X = np.matrix(X)\n",
    "    y = np.matrix(y)\n",
    "\n",
    "    J = (np.multiply(-y, np.log(h)) - np.multiply((1 - y), np.log(1 - h))).sum() / m\n",
    "        \n",
    "    if regularize:\n",
    "        regularization_value = 0.0\n",
    "        for theta in theta_list:\n",
    "            regularization_value += np.sum(np.power(theta[:, 1:], 2))\n",
    "        J += (float(regularization) / (2 * m)) * regularization_value\n",
    "        \n",
    "\n",
    "    return J"
   ]
  },
  {
   "cell_type": "code",
   "execution_count": 134,
   "metadata": {},
   "outputs": [],
   "source": [
    "def run_neural():\n",
    "\n",
    "    input_size = 400\n",
    "    hidden_layers = [50, 50]\n",
    "    num_labels = 10\n",
    "    regularization = 0.01\n",
    "\n",
    "    data = load_data('data/ex3data1.mat')\n",
    "    X = data['X']  \n",
    "    y = data['y']  \n",
    "\n",
    "    print(X.shape, y.shape)\n",
    "\n",
    "    encoder = OneHotEncoder(sparse=False)\n",
    "    y_encoded = encoder.fit_transform(y)\n",
    "    \n",
    "    print(y_encoded.shape)\n",
    "    \n",
    "    total_param_count = 0\n",
    "    for idx, val in enumerate(hidden_layers):\n",
    "        if idx == 0:\n",
    "            total_param_count += val * (input_size + 1)\n",
    "        if idx != 0:\n",
    "            total_param_count += val * (hidden_layers[idx-1] + 1)\n",
    "        if idx == (len(hidden_layers)-1):\n",
    "            total_param_count += num_labels * (val + 1)\n",
    "    \n",
    "\n",
    "    params = (np.random.random(size=total_param_count) - 0.5) * 0.25\n",
    "    print(params.shape)\n",
    "    print(\"Running the backpropagation ...\")\n",
    "    start_time = time.time()\n",
    "\n",
    "    fmin = minimize(fun=back_prop, x0=params, \n",
    "                    args=(input_size, hidden_layers, num_labels, X, y_encoded, regularization, False),\n",
    "                    method='TNC', jac=True, options={'maxiter': 250})\n",
    "\n",
    "    print(fmin)\n",
    "    \n",
    "    final_theta_list = []\n",
    "    startCount = 0\n",
    "    idx = 0\n",
    "    for idx, val in enumerate(hidden_layers):\n",
    "        if idx == 0:\n",
    "            startCount = val * (input_size + 1)\n",
    "            final_theta_list.append(np.matrix(np.reshape(fmin.x[:startCount], (val, (input_size + 1)))))\n",
    "        if idx != 0:\n",
    "            tempCount = startCount\n",
    "            startCount += (val * (hidden_layers[idx-1] + 1))\n",
    "            final_theta_list.append(np.matrix(np.reshape(fmin.x[tempCount:startCount], (val, (hidden_layers[idx-1] + 1)))))\n",
    "        if idx == (len(hidden_layers)-1):\n",
    "            final_theta_list.append(np.matrix(np.reshape(fmin.x[startCount:], (num_labels, (val + 1)))))\n",
    "            \n",
    "    \n",
    "    a_list, z_list = forward_prop(X, final_theta_list)\n",
    "    y_pred = np.array(np.argmax(z_list[len(z_list)-1], axis=1) + 1)\n",
    "    \n",
    "    correct = [1 if a == b else 0 for (a, b) in zip(y_pred, y)]\n",
    "    accuracy = (sum(map(int, correct)) / float(len(correct)))\n",
    "\n",
    "    print('accuracy = {0}%'.format(accuracy * 100))\n"
   ]
  },
  {
   "cell_type": "code",
   "execution_count": 135,
   "metadata": {},
   "outputs": [
    {
     "name": "stdout",
     "output_type": "stream",
     "text": [
      "(5000, 400) (5000, 1)\n",
      "(5000, 10)\n",
      "(23110,)\n",
      "Running the backpropagation ...\n",
      "     fun: 0.000724461724456567\n",
      "     jac: array([ 4.25657508e-05,  0.00000000e+00,  0.00000000e+00, ...,\n",
      "       -2.44356222e-06, -6.64171009e-06, -6.19064936e-06])\n",
      " message: 'Max. number of function evaluations reached'\n",
      "    nfev: 251\n",
      "     nit: 24\n",
      "  status: 3\n",
      " success: False\n",
      "       x: array([ 2.37354748,  0.05203696, -0.05227382, ...,  1.16125311,\n",
      "        0.41086868,  1.5763672 ])\n",
      "accuracy = 100.0%\n"
     ]
    }
   ],
   "source": [
    "np.random.seed(3)\n",
    "run_neural()"
   ]
  },
  {
   "cell_type": "code",
   "execution_count": null,
   "metadata": {},
   "outputs": [],
   "source": []
  }
 ],
 "metadata": {
  "kernelspec": {
   "display_name": "Python 3",
   "language": "python",
   "name": "python3"
  },
  "language_info": {
   "codemirror_mode": {
    "name": "ipython",
    "version": 3
   },
   "file_extension": ".py",
   "mimetype": "text/x-python",
   "name": "python",
   "nbconvert_exporter": "python",
   "pygments_lexer": "ipython3",
   "version": "3.8.5"
  }
 },
 "nbformat": 4,
 "nbformat_minor": 1
}
