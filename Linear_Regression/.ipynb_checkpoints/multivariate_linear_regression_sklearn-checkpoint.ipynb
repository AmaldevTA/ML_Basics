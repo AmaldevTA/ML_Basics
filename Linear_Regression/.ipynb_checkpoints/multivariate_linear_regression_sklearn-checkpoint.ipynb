{
 "cells": [
  {
   "cell_type": "code",
   "execution_count": 1,
   "metadata": {},
   "outputs": [],
   "source": [
    "import pandas as pd\n",
    "import numpy as np\n",
    "from sklearn.model_selection import train_test_split\n",
    "from sklearn.linear_model import LinearRegression\n",
    "import matplotlib.pyplot as plt"
   ]
  },
  {
   "cell_type": "code",
   "execution_count": 9,
   "metadata": {},
   "outputs": [
    {
     "data": {
      "text/html": [
       "<div>\n",
       "<style scoped>\n",
       "    .dataframe tbody tr th:only-of-type {\n",
       "        vertical-align: middle;\n",
       "    }\n",
       "\n",
       "    .dataframe tbody tr th {\n",
       "        vertical-align: top;\n",
       "    }\n",
       "\n",
       "    .dataframe thead th {\n",
       "        text-align: right;\n",
       "    }\n",
       "</style>\n",
       "<table border=\"1\" class=\"dataframe\">\n",
       "  <thead>\n",
       "    <tr style=\"text-align: right;\">\n",
       "      <th></th>\n",
       "      <th>Species</th>\n",
       "      <th>Weight</th>\n",
       "      <th>Length1</th>\n",
       "      <th>Length2</th>\n",
       "      <th>Length3</th>\n",
       "      <th>Height</th>\n",
       "      <th>Width</th>\n",
       "    </tr>\n",
       "  </thead>\n",
       "  <tbody>\n",
       "    <tr>\n",
       "      <th>0</th>\n",
       "      <td>Bream</td>\n",
       "      <td>242.000</td>\n",
       "      <td>23.200</td>\n",
       "      <td>25.400</td>\n",
       "      <td>30.000</td>\n",
       "      <td>11.520</td>\n",
       "      <td>4.020</td>\n",
       "    </tr>\n",
       "    <tr>\n",
       "      <th>1</th>\n",
       "      <td>Bream</td>\n",
       "      <td>290.000</td>\n",
       "      <td>24.000</td>\n",
       "      <td>26.300</td>\n",
       "      <td>31.200</td>\n",
       "      <td>12.480</td>\n",
       "      <td>4.306</td>\n",
       "    </tr>\n",
       "    <tr>\n",
       "      <th>2</th>\n",
       "      <td>Bream</td>\n",
       "      <td>340.000</td>\n",
       "      <td>23.900</td>\n",
       "      <td>26.500</td>\n",
       "      <td>31.100</td>\n",
       "      <td>12.378</td>\n",
       "      <td>4.696</td>\n",
       "    </tr>\n",
       "    <tr>\n",
       "      <th>3</th>\n",
       "      <td>Bream</td>\n",
       "      <td>363.000</td>\n",
       "      <td>26.300</td>\n",
       "      <td>29.000</td>\n",
       "      <td>33.500</td>\n",
       "      <td>12.730</td>\n",
       "      <td>4.455</td>\n",
       "    </tr>\n",
       "    <tr>\n",
       "      <th>4</th>\n",
       "      <td>Bream</td>\n",
       "      <td>430.000</td>\n",
       "      <td>26.500</td>\n",
       "      <td>29.000</td>\n",
       "      <td>34.000</td>\n",
       "      <td>12.444</td>\n",
       "      <td>5.134</td>\n",
       "    </tr>\n",
       "  </tbody>\n",
       "</table>\n",
       "</div>"
      ],
      "text/plain": [
       "  Species               Weight              Length1              Length2  \\\n",
       "0   Bream              242.000               23.200               25.400   \n",
       "1   Bream              290.000               24.000               26.300   \n",
       "2   Bream              340.000               23.900               26.500   \n",
       "3   Bream              363.000               26.300               29.000   \n",
       "4   Bream              430.000               26.500               29.000   \n",
       "\n",
       "               Length3               Height                Width  \n",
       "0               30.000               11.520                4.020  \n",
       "1               31.200               12.480                4.306  \n",
       "2               31.100               12.378                4.696  \n",
       "3               33.500               12.730                4.455  \n",
       "4               34.000               12.444                5.134  "
      ]
     },
     "execution_count": 9,
     "metadata": {},
     "output_type": "execute_result"
    }
   ],
   "source": [
    "pd.options.display.float_format = '{:20,.3f}'.format\n",
    "dataFull = pd.read_csv('data/Fish.csv')\n",
    "data = dataFull.loc[dataFull['Species'] == \"Bream\"]\n",
    "sample_input = np.c_[data['Length1'], data['Length2'], data['Length3'], data['Height'], data['Width']]\n",
    "sample_output = np.c_[data['Weight']]\n",
    "data.head()"
   ]
  },
  {
   "cell_type": "code",
   "execution_count": 10,
   "metadata": {},
   "outputs": [
    {
     "data": {
      "text/plain": [
       "LinearRegression()"
      ]
     },
     "execution_count": 10,
     "metadata": {},
     "output_type": "execute_result"
    }
   ],
   "source": [
    "lm = LinearRegression()\n",
    "lm.fit(sample_input, sample_output)"
   ]
  },
  {
   "cell_type": "code",
   "execution_count": 14,
   "metadata": {},
   "outputs": [
    {
     "name": "stdout",
     "output_type": "stream",
     "text": [
      "[[629.5843666]]\n"
     ]
    }
   ],
   "source": [
    "predictions = lm.predict(sample_input[14].reshape(1, -1))\n",
    "print(predictions)"
   ]
  },
  {
   "cell_type": "code",
   "execution_count": null,
   "metadata": {},
   "outputs": [],
   "source": []
  }
 ],
 "metadata": {
  "kernelspec": {
   "display_name": "Python 3",
   "language": "python",
   "name": "python3"
  },
  "language_info": {
   "codemirror_mode": {
    "name": "ipython",
    "version": 3
   },
   "file_extension": ".py",
   "mimetype": "text/x-python",
   "name": "python",
   "nbconvert_exporter": "python",
   "pygments_lexer": "ipython3",
   "version": "3.8.5"
  }
 },
 "nbformat": 4,
 "nbformat_minor": 2
}
