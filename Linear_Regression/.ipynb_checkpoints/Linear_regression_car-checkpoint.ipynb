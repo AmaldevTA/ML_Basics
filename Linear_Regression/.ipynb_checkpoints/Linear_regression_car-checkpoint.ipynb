{
 "cells": [
  {
   "cell_type": "code",
   "execution_count": 1,
   "metadata": {},
   "outputs": [],
   "source": [
    "import pandas as pd\n",
    "import numpy as np\n",
    "import matplotlib.pyplot as plt\n",
    "from scipy.optimize import fmin_ncg"
   ]
  },
  {
   "cell_type": "code",
   "execution_count": 2,
   "metadata": {},
   "outputs": [
    {
     "data": {
      "text/html": [
       "<div>\n",
       "<style scoped>\n",
       "    .dataframe tbody tr th:only-of-type {\n",
       "        vertical-align: middle;\n",
       "    }\n",
       "\n",
       "    .dataframe tbody tr th {\n",
       "        vertical-align: top;\n",
       "    }\n",
       "\n",
       "    .dataframe thead th {\n",
       "        text-align: right;\n",
       "    }\n",
       "</style>\n",
       "<table border=\"1\" class=\"dataframe\">\n",
       "  <thead>\n",
       "    <tr style=\"text-align: right;\">\n",
       "      <th></th>\n",
       "      <th>Avg. Area Income</th>\n",
       "      <th>Avg. Area House Age</th>\n",
       "      <th>Avg. Area Number of Rooms</th>\n",
       "      <th>Avg. Area Number of Bedrooms</th>\n",
       "      <th>Area Population</th>\n",
       "      <th>Price</th>\n",
       "      <th>Address</th>\n",
       "    </tr>\n",
       "  </thead>\n",
       "  <tbody>\n",
       "    <tr>\n",
       "      <th>0</th>\n",
       "      <td>79,545.459</td>\n",
       "      <td>5.683</td>\n",
       "      <td>7.009</td>\n",
       "      <td>4.090</td>\n",
       "      <td>23,086.801</td>\n",
       "      <td>1,059,033.558</td>\n",
       "      <td>208 Michael Ferry Apt. 674\\nLaurabury, NE 3701...</td>\n",
       "    </tr>\n",
       "    <tr>\n",
       "      <th>1</th>\n",
       "      <td>79,248.642</td>\n",
       "      <td>6.003</td>\n",
       "      <td>6.731</td>\n",
       "      <td>3.090</td>\n",
       "      <td>40,173.072</td>\n",
       "      <td>1,505,890.915</td>\n",
       "      <td>188 Johnson Views Suite 079\\nLake Kathleen, CA...</td>\n",
       "    </tr>\n",
       "    <tr>\n",
       "      <th>2</th>\n",
       "      <td>61,287.067</td>\n",
       "      <td>5.866</td>\n",
       "      <td>8.513</td>\n",
       "      <td>5.130</td>\n",
       "      <td>36,882.159</td>\n",
       "      <td>1,058,987.988</td>\n",
       "      <td>9127 Elizabeth Stravenue\\nDanieltown, WI 06482...</td>\n",
       "    </tr>\n",
       "    <tr>\n",
       "      <th>3</th>\n",
       "      <td>63,345.240</td>\n",
       "      <td>7.188</td>\n",
       "      <td>5.587</td>\n",
       "      <td>3.260</td>\n",
       "      <td>34,310.243</td>\n",
       "      <td>1,260,616.807</td>\n",
       "      <td>USS Barnett\\nFPO AP 44820</td>\n",
       "    </tr>\n",
       "    <tr>\n",
       "      <th>4</th>\n",
       "      <td>59,982.197</td>\n",
       "      <td>5.041</td>\n",
       "      <td>7.839</td>\n",
       "      <td>4.230</td>\n",
       "      <td>26,354.109</td>\n",
       "      <td>630,943.489</td>\n",
       "      <td>USNS Raymond\\nFPO AE 09386</td>\n",
       "    </tr>\n",
       "  </tbody>\n",
       "</table>\n",
       "</div>"
      ],
      "text/plain": [
       "      Avg. Area Income  Avg. Area House Age  Avg. Area Number of Rooms  \\\n",
       "0           79,545.459                5.683                      7.009   \n",
       "1           79,248.642                6.003                      6.731   \n",
       "2           61,287.067                5.866                      8.513   \n",
       "3           63,345.240                7.188                      5.587   \n",
       "4           59,982.197                5.041                      7.839   \n",
       "\n",
       "   Avg. Area Number of Bedrooms      Area Population                Price  \\\n",
       "0                         4.090           23,086.801        1,059,033.558   \n",
       "1                         3.090           40,173.072        1,505,890.915   \n",
       "2                         5.130           36,882.159        1,058,987.988   \n",
       "3                         3.260           34,310.243        1,260,616.807   \n",
       "4                         4.230           26,354.109          630,943.489   \n",
       "\n",
       "                                             Address  \n",
       "0  208 Michael Ferry Apt. 674\\nLaurabury, NE 3701...  \n",
       "1  188 Johnson Views Suite 079\\nLake Kathleen, CA...  \n",
       "2  9127 Elizabeth Stravenue\\nDanieltown, WI 06482...  \n",
       "3                          USS Barnett\\nFPO AP 44820  \n",
       "4                         USNS Raymond\\nFPO AE 09386  "
      ]
     },
     "execution_count": 2,
     "metadata": {},
     "output_type": "execute_result"
    }
   ],
   "source": [
    "pd.options.display.float_format = '{:20,.3f}'.format\n",
    "data = pd.read_csv('data/Car details.csv')\n",
    "sample_input = np.c_[data['name'], data['year'], data['selling_price'], data['km_driven'], \n",
    "                     data['fuel'], data['seller_type'], data['transmission'], data['owner'], data['mileage'],\n",
    "                     data['engine'], data['max_power'], data['torque'], data['seats']]\n",
    "sample_output = np.c_[data['selling_price']]\n",
    "data.head()"
   ]
  },
  {
   "cell_type": "code",
   "execution_count": 3,
   "metadata": {},
   "outputs": [],
   "source": [
    "X = np.c_[np.ones(sample_input.shape[0]), sample_input]\n",
    "y = np.c_[sample_output]"
   ]
  },
  {
   "cell_type": "code",
   "execution_count": 4,
   "metadata": {},
   "outputs": [],
   "source": [
    "def computeCost(theta, X, y):\n",
    "    m = y.size\n",
    "    h = X.dot(theta)\n",
    "\n",
    "    J = 1/(2*m)*np.sum(np.square(h-y))  \n",
    "    \n",
    "    return(J)"
   ]
  },
  {
   "cell_type": "code",
   "execution_count": 5,
   "metadata": {},
   "outputs": [
    {
     "data": {
      "text/plain": [
       "821335072437.9965"
      ]
     },
     "execution_count": 5,
     "metadata": {},
     "output_type": "execute_result"
    }
   ],
   "source": [
    "initial_theta = np.zeros(X.shape[1])\n",
    "computeCost(initial_theta.reshape(-1,1), X, y)\n"
   ]
  },
  {
   "cell_type": "code",
   "execution_count": 6,
   "metadata": {},
   "outputs": [],
   "source": [
    "def gradient(theta, X, y, alpha=0.01):\n",
    "    m = y.size\n",
    "    h = X.dot(theta)\n",
    "    \n",
    "    grad = alpha*(1/m)*(X.T.dot(h-y))\n",
    "\n",
    "    return(grad.flatten())"
   ]
  },
  {
   "cell_type": "code",
   "execution_count": 7,
   "metadata": {},
   "outputs": [
    {
     "name": "stdout",
     "output_type": "stream",
     "text": [
      "Optimization terminated successfully.\n",
      "         Current function value: 5109867366.187583\n",
      "         Iterations: 7\n",
      "         Function evaluations: 10\n",
      "         Gradient evaluations: 47\n",
      "         Hessian evaluations: 0\n"
     ]
    },
    {
     "data": {
      "text/plain": [
       "array([-2.63733012e+06,  2.15770252e+01,  1.65640269e+05,  1.20668176e+05,\n",
       "        1.66025762e+03,  1.52004624e+01])"
      ]
     },
     "execution_count": 7,
     "metadata": {},
     "output_type": "execute_result"
    }
   ],
   "source": [
    "optimized = fmin_ncg(f=computeCost, x0=initial_theta, fprime=gradient, args=(X, y.flatten()))\n",
    "optimized"
   ]
  },
  {
   "cell_type": "code",
   "execution_count": 8,
   "metadata": {},
   "outputs": [
    {
     "data": {
      "text/plain": [
       "5109867366.187583"
      ]
     },
     "execution_count": 8,
     "metadata": {},
     "output_type": "execute_result"
    }
   ],
   "source": [
    "computeCost(optimized.reshape(-1,1), X, y)"
   ]
  },
  {
   "cell_type": "code",
   "execution_count": 9,
   "metadata": {},
   "outputs": [
    {
     "name": "stdout",
     "output_type": "stream",
     "text": [
      "[1223841.36533062]\n"
     ]
    }
   ],
   "source": [
    "print(X[0].dot(optimized.reshape(-1,1)))"
   ]
  },
  {
   "cell_type": "code",
   "execution_count": null,
   "metadata": {},
   "outputs": [],
   "source": []
  }
 ],
 "metadata": {
  "kernelspec": {
   "display_name": "Python 3",
   "language": "python",
   "name": "python3"
  },
  "language_info": {
   "codemirror_mode": {
    "name": "ipython",
    "version": 3
   },
   "file_extension": ".py",
   "mimetype": "text/x-python",
   "name": "python",
   "nbconvert_exporter": "python",
   "pygments_lexer": "ipython3",
   "version": "3.8.5"
  }
 },
 "nbformat": 4,
 "nbformat_minor": 2
}
