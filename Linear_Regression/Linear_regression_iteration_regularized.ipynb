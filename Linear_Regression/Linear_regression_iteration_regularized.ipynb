{
 "cells": [
  {
   "cell_type": "code",
   "execution_count": 1,
   "metadata": {},
   "outputs": [],
   "source": [
    "import pandas as pd\n",
    "import numpy as np\n",
    "import matplotlib.pyplot as plt"
   ]
  },
  {
   "cell_type": "code",
   "execution_count": 2,
   "metadata": {},
   "outputs": [
    {
     "data": {
      "text/html": [
       "<div>\n",
       "<style scoped>\n",
       "    .dataframe tbody tr th:only-of-type {\n",
       "        vertical-align: middle;\n",
       "    }\n",
       "\n",
       "    .dataframe tbody tr th {\n",
       "        vertical-align: top;\n",
       "    }\n",
       "\n",
       "    .dataframe thead th {\n",
       "        text-align: right;\n",
       "    }\n",
       "</style>\n",
       "<table border=\"1\" class=\"dataframe\">\n",
       "  <thead>\n",
       "    <tr style=\"text-align: right;\">\n",
       "      <th></th>\n",
       "      <th>Species</th>\n",
       "      <th>Weight</th>\n",
       "      <th>Length1</th>\n",
       "      <th>Length2</th>\n",
       "      <th>Length3</th>\n",
       "      <th>Height</th>\n",
       "      <th>Width</th>\n",
       "    </tr>\n",
       "  </thead>\n",
       "  <tbody>\n",
       "    <tr>\n",
       "      <th>0</th>\n",
       "      <td>Bream</td>\n",
       "      <td>242.000</td>\n",
       "      <td>23.200</td>\n",
       "      <td>25.400</td>\n",
       "      <td>30.000</td>\n",
       "      <td>11.520</td>\n",
       "      <td>4.020</td>\n",
       "    </tr>\n",
       "    <tr>\n",
       "      <th>1</th>\n",
       "      <td>Bream</td>\n",
       "      <td>290.000</td>\n",
       "      <td>24.000</td>\n",
       "      <td>26.300</td>\n",
       "      <td>31.200</td>\n",
       "      <td>12.480</td>\n",
       "      <td>4.306</td>\n",
       "    </tr>\n",
       "    <tr>\n",
       "      <th>2</th>\n",
       "      <td>Bream</td>\n",
       "      <td>340.000</td>\n",
       "      <td>23.900</td>\n",
       "      <td>26.500</td>\n",
       "      <td>31.100</td>\n",
       "      <td>12.378</td>\n",
       "      <td>4.696</td>\n",
       "    </tr>\n",
       "    <tr>\n",
       "      <th>3</th>\n",
       "      <td>Bream</td>\n",
       "      <td>363.000</td>\n",
       "      <td>26.300</td>\n",
       "      <td>29.000</td>\n",
       "      <td>33.500</td>\n",
       "      <td>12.730</td>\n",
       "      <td>4.455</td>\n",
       "    </tr>\n",
       "    <tr>\n",
       "      <th>4</th>\n",
       "      <td>Bream</td>\n",
       "      <td>430.000</td>\n",
       "      <td>26.500</td>\n",
       "      <td>29.000</td>\n",
       "      <td>34.000</td>\n",
       "      <td>12.444</td>\n",
       "      <td>5.134</td>\n",
       "    </tr>\n",
       "  </tbody>\n",
       "</table>\n",
       "</div>"
      ],
      "text/plain": [
       "  Species               Weight              Length1              Length2  \\\n",
       "0   Bream              242.000               23.200               25.400   \n",
       "1   Bream              290.000               24.000               26.300   \n",
       "2   Bream              340.000               23.900               26.500   \n",
       "3   Bream              363.000               26.300               29.000   \n",
       "4   Bream              430.000               26.500               29.000   \n",
       "\n",
       "               Length3               Height                Width  \n",
       "0               30.000               11.520                4.020  \n",
       "1               31.200               12.480                4.306  \n",
       "2               31.100               12.378                4.696  \n",
       "3               33.500               12.730                4.455  \n",
       "4               34.000               12.444                5.134  "
      ]
     },
     "execution_count": 2,
     "metadata": {},
     "output_type": "execute_result"
    }
   ],
   "source": [
    "pd.options.display.float_format = '{:20,.3f}'.format\n",
    "dataFull = pd.read_csv('data/Fish.csv')\n",
    "data = dataFull.loc[dataFull['Species'] == \"Bream\"]\n",
    "sample_input = np.c_[data['Length1'], data['Length2'], data['Length3'], data['Height'], data['Width']]\n",
    "sample_output = np.c_[data['Weight']]\n",
    "data.head()"
   ]
  },
  {
   "cell_type": "code",
   "execution_count": 3,
   "metadata": {},
   "outputs": [],
   "source": [
    "sample_input = sample_input / sample_input.mean(axis=0, keepdims=True)\n",
    "X = np.c_[np.ones(sample_input.shape[0]), sample_input]\n",
    "y = np.c_[sample_output]\n",
    "regularization = 0.001"
   ]
  },
  {
   "cell_type": "code",
   "execution_count": 4,
   "metadata": {},
   "outputs": [
    {
     "data": {
      "image/png": "[encoded data removed]",
      "text/plain": [
       "<Figure size 432x288 with 1 Axes>"
      ]
     },
     "metadata": {
      "needs_background": "light"
     },
     "output_type": "display_data"
    }
   ],
   "source": [
    "plt.scatter(X[:,1], y, s=30, c='r', marker='x', linewidths=1)\n",
    "\n",
    "plt.scatter(X[:,2], y, s=30, c='b', marker='x', linewidths=1)\n",
    "\n",
    "plt.scatter(X[:,3], y, s=30, c='g', marker='x', linewidths=1)\n",
    "\n",
    "plt.scatter(X[:,4], y, s=30, c='y', marker='x', linewidths=1)\n",
    "\n",
    "plt.scatter(X[:,5], y, s=30, c='k', marker='x', linewidths=1)\n",
    "\n",
    "plt.ylabel('Weight')\n",
    "plt.xlabel('Width, Height, Length1, Length2, Length3');"
   ]
  },
  {
   "cell_type": "code",
   "execution_count": 5,
   "metadata": {},
   "outputs": [],
   "source": [
    "def computeCost(theta, X, y, reg):\n",
    "    m = y.size\n",
    "    h = X.dot(theta)\n",
    "\n",
    "    J = 1/(2*m) * (  np.sum(np.square(h-y))  +  (reg/(2*m))*np.sum(np.square(theta[1:]))  )  \n",
    "    \n",
    "    return(J)"
   ]
  },
  {
   "cell_type": "code",
   "execution_count": 6,
   "metadata": {},
   "outputs": [
    {
     "name": "stdout",
     "output_type": "stream",
     "text": [
      "Initial cost: 216653.0\n"
     ]
    }
   ],
   "source": [
    "initial_theta = np.zeros(X.shape[1])\n",
    "initial_cost = computeCost(initial_theta.reshape(-1,1), X, y, regularization)\n",
    "print('Initial cost: {}'.format(initial_cost))"
   ]
  },
  {
   "cell_type": "code",
   "execution_count": 7,
   "metadata": {},
   "outputs": [],
   "source": [
    "def gradient(theta, X, y, alpha, reg):\n",
    "    m = y.size\n",
    "    h = X.dot(theta)\n",
    "    \n",
    "    grad = alpha*( (1/m)*(X.T.dot(h-y))   -   (reg/m)*np.r_[[[0]],theta[1:]] )\n",
    "    \n",
    "    return grad"
   ]
  },
  {
   "cell_type": "code",
   "execution_count": 8,
   "metadata": {},
   "outputs": [],
   "source": [
    "def gradientDescent(X, y, reg, alpha=0.01, num_iters=250):\n",
    "    theta = np.zeros(X.shape[1]).reshape(-1, 1)\n",
    "    m = y.size\n",
    "    J_history = np.zeros(num_iters)\n",
    "    \n",
    "    for iter in np.arange(num_iters):\n",
    "        h = X.dot(theta)\n",
    "        theta = theta - gradient(theta, X, y, alpha, reg)\n",
    "        J_history[iter] = computeCost(theta.reshape(-1,1), X, y, reg)\n",
    "    return(theta, J_history)"
   ]
  },
  {
   "cell_type": "code",
   "execution_count": 9,
   "metadata": {},
   "outputs": [
    {
     "name": "stdout",
     "output_type": "stream",
     "text": [
      "theta:  [ 72.48115185 112.20026114 112.36651638 109.16998454 116.74884279\n",
      " 116.06100505]\n"
     ]
    },
    {
     "data": {
      "image/png": "[encoded data removed]",
      "text/plain": [
       "<Figure size 432x288 with 1 Axes>"
      ]
     },
     "metadata": {
      "needs_background": "light"
     },
     "output_type": "display_data"
    }
   ],
   "source": [
    "# theta for minimized cost J\n",
    "theta , Cost_J = gradientDescent(X, y, regularization)\n",
    "print('theta: ',theta.ravel())\n",
    "\n",
    "plt.plot(Cost_J)\n",
    "plt.ylabel('Cost J')\n",
    "plt.xlabel('Iterations');"
   ]
  },
  {
   "cell_type": "code",
   "execution_count": 10,
   "metadata": {},
   "outputs": [
    {
     "name": "stdout",
     "output_type": "stream",
     "text": [
      "Final cost: 9688.978516821173\n",
      "[633.04657128]\n"
     ]
    }
   ],
   "source": [
    "final_cost = computeCost(theta.reshape(-1,1), X, y, regularization)\n",
    "print('Final cost: {}'.format(final_cost))\n",
    "print(X[14].dot(theta.reshape(-1,1)))\n"
   ]
  },
  {
   "cell_type": "code",
   "execution_count": null,
   "metadata": {},
   "outputs": [],
   "source": []
  }
 ],
 "metadata": {
  "kernelspec": {
   "display_name": "Python 3",
   "language": "python",
   "name": "python3"
  },
  "language_info": {
   "codemirror_mode": {
    "name": "ipython",
    "version": 3
   },
   "file_extension": ".py",
   "mimetype": "text/x-python",
   "name": "python",
   "nbconvert_exporter": "python",
   "pygments_lexer": "ipython3",
   "version": "3.8.5"
  }
 },
 "nbformat": 4,
 "nbformat_minor": 2
}
